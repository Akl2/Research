{
 "cells": [
  {
   "cell_type": "code",
   "execution_count": 8,
   "metadata": {},
   "outputs": [],
   "source": [
    "## Importing important stuff\n",
    "import random\n",
    "import numpy as np\n",
    "import pandas as pd\n",
    "from PIL import Image \n",
    "import tifffile as tiff\n",
    "             ###############\n",
    "#plotting\n",
    "import matplotlib.pyplot as plt\n",
    "from plotly.offline import iplot\n",
    "import plotly.graph_objs as go\n",
    "\n",
    "# Run this code to make plots display properly in notebooks\n",
    "%matplotlib inline\n",
    "            ####################\n",
    "#machine learning stuff\n",
    "from sklearn.model_selection import train_test_split\n",
    "from sklearn.utils import shuffle\n",
    "from keras.utils.np_utils import to_categorical   \n",
    "###\n",
    "from keras import models\n",
    "from keras import layers\n",
    "###\n",
    "import pickle as pkl\n",
    "import time"
   ]
  },
  {
   "cell_type": "code",
   "execution_count": 9,
   "metadata": {},
   "outputs": [],
   "source": [
    "from PIL import Image\n",
    "from tifffile import imsave"
   ]
  },
  {
   "cell_type": "code",
   "execution_count": 2,
   "metadata": {},
   "outputs": [],
   "source": [
    "import keras\n",
    "from keras.models import load_model\n",
    "from keras.datasets import cifar10\n",
    "from keras.layers import Input, Dense, Conv2D, MaxPooling2D, UpSampling2D, Conv2DTranspose, concatenate\n",
    "from keras.models import Model\n",
    "from keras.callbacks import EarlyStopping, ModelCheckpoint\n",
    "from keras.optimizers import Adam\n",
    "from keras import backend as K\n",
    "\n",
    "import os\n",
    "import pickle"
   ]
  },
  {
   "cell_type": "code",
   "execution_count": 3,
   "metadata": {},
   "outputs": [],
   "source": [
    "##  very good\n",
    "\n",
    "#load other testing data\n",
    "x_TT_orig = np.load('x_true_test_128.npy')\n",
    "y_TT_orig = np.load('y_true_test_128.npy')\n",
    "\n",
    "# reshape them \n",
    "x_TT = x_TT_orig.reshape(x_TT_orig.shape[0],128,128,1)\n",
    "y_TT = y_TT_orig.reshape(y_TT_orig.shape[0],128,128,1)\n",
    "#predict the other testing data. \n",
    "#\n",
    "#"
   ]
  },
  {
   "cell_type": "code",
   "execution_count": 4,
   "metadata": {},
   "outputs": [],
   "source": [
    "x_TT_sc = x_TT/3020.0\n",
    "y_TT_sc = y_TT/3020.0"
   ]
  },
  {
   "cell_type": "code",
   "execution_count": 5,
   "metadata": {},
   "outputs": [],
   "source": [
    "#loading the model \n",
    "model = load_model('UNET_128_short.h5')"
   ]
  },
  {
   "cell_type": "code",
   "execution_count": 6,
   "metadata": {},
   "outputs": [],
   "source": [
    "new_pre_sc= model.predict(x_TT_sc[:20])"
   ]
  },
  {
   "cell_type": "code",
   "execution_count": null,
   "metadata": {},
   "outputs": [],
   "source": [
    "#checking correspondance \n",
    "#####check for correspondance\n",
    "import matplotlib.pyplot as plt\n",
    "\n",
    "n = 10  # how many digits we will display\n",
    "plt.figure(figsize=(20, 10))\n",
    "for i in range(n):\n",
    "    # display original\n",
    "    \n",
    "    ax1 = plt.subplot(3, n, i + 1)\n",
    "    ax1.title.set_text('bad images')\n",
    "    plt.imshow(x_TT_sc[i].reshape(128, 128))\n",
    "    plt.gray()\n",
    "    ax1.get_xaxis().set_visible(False)\n",
    "    ax1.get_yaxis().set_visible(False)\n",
    "    \n",
    "        # display reconstruction\n",
    "    \n",
    "    ax2 = plt.subplot(3, n, i + 1 + n)\n",
    "    ax2.title.set_text('predicted images')\n",
    "    plt.imshow(new_pre_sc[i].reshape(128, 128))\n",
    "    plt.gray()\n",
    "    ax2.get_xaxis().set_visible(False)\n",
    "    ax2.get_yaxis().set_visible(False)\n",
    "            # display reconstruction\n",
    "    \n",
    "    ax3 = plt.subplot(3, n, i + 1 + n+n)\n",
    "    ax3.title.set_text('good images')\n",
    "    plt.imshow(y_TT_sc[i].reshape(128, 128))\n",
    "    plt.gray()\n",
    "    ax3.get_xaxis().set_visible(False)\n",
    "    ax3.get_yaxis().set_visible(False)\n",
    "\n",
    "plt.show()"
   ]
  },
  {
   "cell_type": "markdown",
   "metadata": {},
   "source": [
    "The output is actually not correct for 2 out of the 4 images "
   ]
  },
  {
   "cell_type": "code",
   "execution_count": 10,
   "metadata": {},
   "outputs": [],
   "source": [
    "def save_multi_tif(i):\n",
    "    #creating the list \n",
    "    init_list=[0,0,0]\n",
    "    init_list[0] = x_TT_orig[i]\n",
    "    init_list[1] = y_TT_orig[i]\n",
    "    init_list[2] = new_pre_sc[i].reshape(128,128)*3020.0\n",
    "    #changing the list a numpy array and reshaping\n",
    "    nparr= np.asarray(init_list).reshape(3,128,128,1)\n",
    "    #changing to 16 bit\n",
    "    corr_array = np.uint16(nparr)\n",
    "    ## saving it\n",
    "    imsave('/users/PAS1495/akl2/work/increase_SNR/tiff_folder/multi_'+str(i)+'.tif', corr_array)"
   ]
  },
  {
   "cell_type": "code",
   "execution_count": 11,
   "metadata": {},
   "outputs": [],
   "source": [
    "### Creating a function to load up measurements for a cell and \n",
    "def lists_for_plot(path):\n",
    "    data = pd.read_csv(str(path)) \n",
    "    y_index = list(range(0,len(data),3))\n",
    "    pred_index = list(range(1,len(data),3))\n",
    "    x_index = list(range(2,len(data),3))\n",
    "    #Max, min and mean lists\n",
    "    max_y_list = data.iloc[y_index, 4].values\n",
    "    max_x_list = data.iloc[x_index, 4].values\n",
    "    max_pred_list = data.iloc[pred_index, 4].values\n",
    "    min_y_list = data.iloc[y_index, 3].values\n",
    "    min_x_list = data.iloc[x_index, 3].values\n",
    "    min_pred_list = data.iloc[pred_index, 3].values\n",
    "    mean_y_list = data.iloc[y_index, 2].values\n",
    "    mean_x_list = data.iloc[x_index, 2].values\n",
    "    mean_pred_list = data.iloc[pred_index, 2].values\n",
    "    ######## Normalization \n",
    "    norm_max_y_list = max_y_list/max_y_list[0]\n",
    "    norm_max_x_list = max_x_list/max_x_list[0]\n",
    "    norm_max_pred_list = max_pred_list/max_pred_list[0]\n",
    "    norm_min_y_list = min_y_list/min_y_list[0]\n",
    "    norm_min_x_list = min_x_list/min_x_list[0]\n",
    "    norm_min_pred_list = min_pred_list/min_pred_list[0]\n",
    "    norm_mean_y_list = mean_y_list/mean_y_list[0]\n",
    "    norm_mean_x_list = mean_x_list/mean_x_list[0]\n",
    "    norm_mean_pred_list = mean_pred_list/mean_pred_list[0]\n",
    "    ## How does total intensity compare??\n",
    "    area_list = data.iloc[y_index, 1].values\n",
    "    tot_int_x = mean_x_list*area_list\n",
    "    tot_int_y = mean_y_list*area_list\n",
    "    tot_int_pred = mean_pred_list*area_list\n",
    "    norm_tot_int_x = tot_int_x/tot_int_x[0]\n",
    "    norm_tot_int_y = tot_int_y/tot_int_y[0]\n",
    "    norm_tot_int_pred =tot_int_pred/tot_int_pred[0]\n",
    "    list_dic={'x':{'mean':norm_mean_x_list,'max':norm_max_x_list,'min':norm_min_x_list,'tot':norm_tot_int_x},\n",
    "         'y':{'mean':norm_mean_y_list,'max':norm_max_y_list,'min':norm_min_y_list,'tot':norm_tot_int_y},\n",
    "         'pred':{'mean':norm_mean_pred_list,'max':norm_max_pred_list,'min':norm_min_pred_list,'tot':norm_tot_int_pred}}\n",
    "    return list_dic\n",
    "    \n",
    "#print('y_index list is ', y_index)\n",
    "#print('pred_index list is ' , pred_index)\n",
    "#print('x_index list is ', x_index)\n",
    "# Preview the first 5 lines of the loaded data \n"
   ]
  },
  {
   "cell_type": "code",
   "execution_count": 25,
   "metadata": {
    "scrolled": true
   },
   "outputs": [
    {
     "name": "stderr",
     "output_type": "stream",
     "text": [
      "/apps/python/3.6-conda5.2/lib/python3.6/site-packages/ipykernel_launcher.py:2: DeprecationWarning:\n",
      "\n",
      "`imsave` is deprecated!\n",
      "`imsave` is deprecated in SciPy 1.0.0, and will be removed in 1.2.0.\n",
      "Use ``imageio.imwrite`` instead.\n",
      "\n"
     ]
    }
   ],
   "source": [
    "# Do not rerun \n",
    "#Saving image as jpg\n",
    "import scipy.misc\n",
    "scipy.misc.imsave('/users/PAS1495/akl2/work/increase_SNR/tiff_folder/outfile.jpg', y_TT_orig[i])"
   ]
  },
  {
   "cell_type": "code",
   "execution_count": 22,
   "metadata": {},
   "outputs": [],
   "source": [
    "save_multi_tif(0)"
   ]
  },
  {
   "cell_type": "code",
   "execution_count": 16,
   "metadata": {},
   "outputs": [],
   "source": [
    "########### if the array is only of dim 3, then it gets exported into different channels. \n",
    "from tifffile import imsave\n",
    "###What goes inside this array has to be (#number of frames, 128, 128, 1)\n",
    "arr= np.uint16(y_TT_sc[:4].reshape(4,128,128)*3020.0)\n",
    "imsave('good_multi_diffch.tif', arr)"
   ]
  },
  {
   "cell_type": "markdown",
   "metadata": {},
   "source": [
    "Some quantitative graphs to examine if rations of intensities was preserved"
   ]
  },
  {
   "cell_type": "code",
   "execution_count": 31,
   "metadata": {
    "scrolled": true
   },
   "outputs": [
    {
     "data": {
      "text/html": [
       "<div>\n",
       "<style scoped>\n",
       "    .dataframe tbody tr th:only-of-type {\n",
       "        vertical-align: middle;\n",
       "    }\n",
       "\n",
       "    .dataframe tbody tr th {\n",
       "        vertical-align: top;\n",
       "    }\n",
       "\n",
       "    .dataframe thead th {\n",
       "        text-align: right;\n",
       "    }\n",
       "</style>\n",
       "<table border=\"1\" class=\"dataframe\">\n",
       "  <thead>\n",
       "    <tr style=\"text-align: right;\">\n",
       "      <th></th>\n",
       "      <th></th>\n",
       "      <th>Area</th>\n",
       "      <th>Mean</th>\n",
       "      <th>Min</th>\n",
       "      <th>Max</th>\n",
       "    </tr>\n",
       "  </thead>\n",
       "  <tbody>\n",
       "    <tr>\n",
       "      <th>0</th>\n",
       "      <td>1</td>\n",
       "      <td>35</td>\n",
       "      <td>281.771</td>\n",
       "      <td>140</td>\n",
       "      <td>661</td>\n",
       "    </tr>\n",
       "    <tr>\n",
       "      <th>1</th>\n",
       "      <td>2</td>\n",
       "      <td>35</td>\n",
       "      <td>301.429</td>\n",
       "      <td>137</td>\n",
       "      <td>570</td>\n",
       "    </tr>\n",
       "    <tr>\n",
       "      <th>2</th>\n",
       "      <td>3</td>\n",
       "      <td>35</td>\n",
       "      <td>110.657</td>\n",
       "      <td>96</td>\n",
       "      <td>142</td>\n",
       "    </tr>\n",
       "    <tr>\n",
       "      <th>3</th>\n",
       "      <td>4</td>\n",
       "      <td>30</td>\n",
       "      <td>322.133</td>\n",
       "      <td>154</td>\n",
       "      <td>637</td>\n",
       "    </tr>\n",
       "    <tr>\n",
       "      <th>4</th>\n",
       "      <td>5</td>\n",
       "      <td>30</td>\n",
       "      <td>337.233</td>\n",
       "      <td>156</td>\n",
       "      <td>611</td>\n",
       "    </tr>\n",
       "  </tbody>\n",
       "</table>\n",
       "</div>"
      ],
      "text/plain": [
       "      Area     Mean  Min  Max\n",
       "0  1    35  281.771  140  661\n",
       "1  2    35  301.429  137  570\n",
       "2  3    35  110.657   96  142\n",
       "3  4    30  322.133  154  637\n",
       "4  5    30  337.233  156  611"
      ]
     },
     "execution_count": 31,
     "metadata": {},
     "output_type": "execute_result"
    }
   ],
   "source": [
    "import pandas as pd \n",
    "#This is the file showing data from sample [0], it is the area of a certain selection, the mean, the min\n",
    "#and the max of this selection, \n",
    "#the selection remains constant through the different images LOW SNR, high SNR, and predicted. \n",
    "data = pd.read_csv('/users/PAS1495/akl2/work/increase_SNR/Analysis Data, tiffs and others/sample[0] total square intensities.csv') \n",
    "# Preview the first 5 lines of the loaded data \n",
    "data.head()"
   ]
  },
  {
   "cell_type": "code",
   "execution_count": 65,
   "metadata": {
    "scrolled": true
   },
   "outputs": [
    {
     "name": "stdout",
     "output_type": "stream",
     "text": [
      "[ 9861.985 10550.015  3872.995  9663.99  10116.99   3390.99  17153.024\n",
      " 19851.008  7070.016 22522.984 22943.976  9531.016 19672.002 19350.009\n",
      "  6973.974 18000.024 19278.     6274.016 25492.005 27021.015  7321.986\n",
      " 20200.032 20576.016  7887.024 10925.01  10712.01   3405.    12535.992\n",
      " 13148.016  4692.996  9804.99  10928.01   3438.   ]\n"
     ]
    }
   ],
   "source": [
    "print(data.Mean.values* data.Area.values)"
   ]
  },
  {
   "cell_type": "code",
   "execution_count": 43,
   "metadata": {},
   "outputs": [
    {
     "name": "stdout",
     "output_type": "stream",
     "text": [
      "        Area     Mean  Min   Max\n",
      "0    1    35  281.771  140   661\n",
      "1    2    35  301.429  137   570\n",
      "2    3    35  110.657   96   142\n",
      "3    4    30  322.133  154   637\n",
      "4    5    30  337.233  156   611\n",
      "5    6    30  113.033   97   148\n",
      "6    7    64  268.016  116   859\n",
      "7    8    64  310.172   99   807\n",
      "8    9    64  110.469   96   152\n",
      "9   10    88  255.943  116   749\n",
      "10  11    88  260.727  100   638\n",
      "11  12    88  108.307   96   148\n",
      "12  13    63  312.254  117   885\n",
      "13  14    63  307.143  113   687\n",
      "14  15    63  110.698   95   139\n",
      "15  16    56  321.429  124   764\n",
      "16  17    56  344.250  108   798\n",
      "17  18    56  112.036   97   160\n",
      "18  19    63  404.635  153  1011\n",
      "19  20    63  428.905  110   954\n",
      "20  21    63  116.222   97   167\n",
      "21  22    72  280.556  113   820\n",
      "22  23    72  285.778  107   672\n",
      "23  24    72  109.542   94   142\n",
      "24  25    30  364.167  163   757\n",
      "25  26    30  357.067  151   579\n",
      "26  27    30  113.500   97   140\n",
      "27  28    42  298.476  138   634\n",
      "28  29    42  313.048  135   577\n",
      "29  30    42  111.738   99   138\n",
      "30  31    30  326.833  142   807\n",
      "31  32    30  364.267  162   621\n",
      "32  33    30  114.600  101   145\n"
     ]
    }
   ],
   "source": [
    "print(data)"
   ]
  },
  {
   "cell_type": "code",
   "execution_count": 39,
   "metadata": {
    "scrolled": true
   },
   "outputs": [
    {
     "name": "stdout",
     "output_type": "stream",
     "text": [
      "[0 0 0 0 0 0 0 0 0 0 0]\n"
     ]
    }
   ],
   "source": [
    "numpy_data = np.array([0]*11)\n",
    "print(numpy_data)"
   ]
  },
  {
   "cell_type": "code",
   "execution_count": 76,
   "metadata": {},
   "outputs": [
    {
     "data": {
      "text/plain": [
       "33"
      ]
     },
     "execution_count": 76,
     "metadata": {},
     "output_type": "execute_result"
    }
   ],
   "source": [
    "len(data)"
   ]
  },
  {
   "cell_type": "code",
   "execution_count": 44,
   "metadata": {},
   "outputs": [
    {
     "name": "stdout",
     "output_type": "stream",
     "text": [
      "y_index list is  [0, 3, 6, 9, 12, 15, 18, 21, 24, 27, 30]\n",
      "pred_index list is  [1, 4, 7, 10, 13, 16, 19, 22, 25, 28, 31]\n",
      "x_index list is  [2, 5, 8, 11, 14, 17, 20, 23, 26, 29, 32]\n"
     ]
    }
   ],
   "source": [
    "y_index = list(range(0,33,3))\n",
    "pred_index = list(range(1,33,3))\n",
    "x_index = list(range(2,33,3))\n",
    "print('y_index list is ', y_index)\n",
    "print('pred_index list is ' , pred_index)\n",
    "print('x_index list is ', x_index)"
   ]
  },
  {
   "cell_type": "code",
   "execution_count": 46,
   "metadata": {},
   "outputs": [
    {
     "name": "stdout",
     "output_type": "stream",
     "text": [
      "y_index list is  [0, 3, 6, 9, 12, 15, 18, 21, 24, 27, 30] with length 11\n"
     ]
    }
   ],
   "source": [
    "print('y_index list is ', y_index, 'with length', len(y_index))"
   ]
  },
  {
   "cell_type": "code",
   "execution_count": 48,
   "metadata": {},
   "outputs": [],
   "source": [
    "max_y_list = data.iloc[y_index, 4].values\n",
    "max_x_list = data.iloc[x_index, 4].values\n",
    "max_pred_list = data.iloc[pred_index, 4].values\n",
    "min_y_list = data.iloc[y_index, 3].values\n",
    "min_x_list = data.iloc[x_index, 3].values\n",
    "min_pred_list = data.iloc[pred_index, 3].values\n",
    "mean_y_list = data.iloc[y_index, 2].values\n",
    "mean_x_list = data.iloc[x_index, 2].values\n",
    "mean_pred_list = data.iloc[pred_index, 2].values"
   ]
  },
  {
   "cell_type": "code",
   "execution_count": 51,
   "metadata": {},
   "outputs": [],
   "source": [
    "######## Normalization \n",
    "### Ratio of bright spots \n",
    "norm_max_y_list = max_y_list/max_y_list[0]\n",
    "norm_max_x_list = max_x_list/max_x_list[0]\n",
    "norm_max_pred_list = max_pred_list/max_pred_list[0]\n",
    "norm_min_y_list = min_y_list/min_y_list[0]\n",
    "norm_min_x_list = min_x_list/min_x_list[0]\n",
    "norm_min_pred_list = min_pred_list/min_pred_list[0]\n",
    "norm_mean_y_list = mean_y_list/mean_y_list[0]\n",
    "norm_mean_x_list = mean_x_list/mean_x_list[0]\n",
    "norm_mean_pred_list = mean_pred_list/mean_pred_list[0]"
   ]
  },
  {
   "cell_type": "code",
   "execution_count": 52,
   "metadata": {},
   "outputs": [
    {
     "name": "stdout",
     "output_type": "stream",
     "text": [
      "[1.         1.07192982 1.41578947 1.11929825 1.20526316 1.4\n",
      " 1.67368421 1.17894737 1.01578947 1.0122807  1.08947368]\n"
     ]
    }
   ],
   "source": [
    "print(norm_max_pred_list)"
   ]
  },
  {
   "cell_type": "code",
   "execution_count": 53,
   "metadata": {},
   "outputs": [
    {
     "name": "stdout",
     "output_type": "stream",
     "text": [
      "[1.         1.13868613 0.72262774 0.72992701 0.82481752 0.78832117\n",
      " 0.80291971 0.7810219  1.10218978 0.98540146 1.18248175]\n"
     ]
    }
   ],
   "source": [
    "print(norm_min_pred_list)"
   ]
  },
  {
   "cell_type": "code",
   "execution_count": 74,
   "metadata": {},
   "outputs": [
    {
     "data": {
      "image/png": "[encoded data removed]",
      "text/plain": [
       "<Figure size 432x288 with 1 Axes>"
      ]
     },
     "metadata": {},
     "output_type": "display_data"
    }
   ],
   "source": [
    "from matplotlib import pyplot as plt\n",
    "plt.plot(norm_max_y_list, label = 'GT')\n",
    "plt.plot(norm_max_pred_list, label = 'Predicted')\n",
    "#plt.plot(norm_max_x_list, label = 'Low SNR')\n",
    "plt.legend(loc='best')\n",
    "plt.xlabel('Spot')\n",
    "#plt.ylabel('Max intensity/Max intensity of spot 0')\n",
    "plt.title('Ratio of Max Intensity of different spots as compared to spot 0')\n",
    "plt.legend()\n",
    "plt.show()"
   ]
  },
  {
   "cell_type": "code",
   "execution_count": 72,
   "metadata": {},
   "outputs": [
    {
     "data": {
      "image/png": "[encoded data removed]",
      "text/plain": [
       "<Figure size 432x288 with 1 Axes>"
      ]
     },
     "metadata": {},
     "output_type": "display_data"
    }
   ],
   "source": [
    "from matplotlib import pyplot as plt\n",
    "plt.plot(norm_mean_y_list, label = 'GT')\n",
    "plt.plot(norm_mean_pred_list, label = 'predicted')\n",
    "plt.xlabel('Spot')\n",
    "plt.legend(loc='best')\n",
    "#plt.ylabel('Max intensity/Max intensity of spot 0')\n",
    "plt.title('Ratio of Mean Intensity of different spots as compared to spot 0')\n",
    "#plt.plot(norm_mean_x_list, label = 'Low SNR')\n",
    "plt.show()"
   ]
  },
  {
   "cell_type": "code",
   "execution_count": 75,
   "metadata": {},
   "outputs": [
    {
     "data": {
      "image/png": "[encoded data removed]",
      "text/plain": [
       "<Figure size 432x288 with 1 Axes>"
      ]
     },
     "metadata": {},
     "output_type": "display_data"
    }
   ],
   "source": [
    "from matplotlib import pyplot as plt\n",
    "plt.plot(norm_min_y_list, label = 'GT')\n",
    "plt.plot(norm_min_pred_list, label = 'predicted')\n",
    "#plt.plot(norm_min_x_list, label = 'Low SNR')\n",
    "plt.xlabel('Spot')\n",
    "plt.legend(loc='best')\n",
    "#plt.ylabel('Max intensity/Max intensity of spot 0')\n",
    "plt.title('Ratio of Min Intensity of different spots as compared to spot 0')\n",
    "plt.show()"
   ]
  },
  {
   "cell_type": "code",
   "execution_count": 66,
   "metadata": {},
   "outputs": [],
   "source": [
    "## How does total intensity compare??\n",
    "area_list = data.iloc[y_index, 1].values\n",
    "tot_int_x = mean_x_list*area_list\n",
    "tot_int_y = mean_y_list*area_list\n",
    "tot_int_pred = mean_pred_list*area_list\n",
    "norm_tot_int_x = tot_int_x/tot_int_x[0]\n",
    "norm_tot_int_y = tot_int_y/tot_int_y[0]\n",
    "norm_tot_int_pred =tot_int_pred/tot_int_pred[0]"
   ]
  },
  {
   "cell_type": "code",
   "execution_count": 68,
   "metadata": {
    "scrolled": true
   },
   "outputs": [
    {
     "data": {
      "image/png": "[encoded data removed]",
      "text/plain": [
       "<Figure size 432x288 with 1 Axes>"
      ]
     },
     "metadata": {},
     "output_type": "display_data"
    }
   ],
   "source": [
    "from matplotlib import pyplot as plt\n",
    "plt.plot(norm_tot_int_y, label = 'GT')\n",
    "plt.plot(norm_tot_int_pred, label = 'Predicted')\n",
    "#plt.plot(norm_tot_int_x, label = 'Low SNR')\n",
    "plt.xlabel('Spot')\n",
    "#plt.ylabel('Max intensity/Max intensity of spot 0')\n",
    "plt.title('Ratio of Total Intensity of different spots as compared to spot 0')\n",
    "plt.legend()\n",
    "plt.show()"
   ]
  },
  {
   "cell_type": "code",
   "execution_count": 83,
   "metadata": {},
   "outputs": [],
   "source": [
    "dic= {1:{1:'apple'}, 2:'banana', 3:'whatve'}"
   ]
  },
  {
   "cell_type": "code",
   "execution_count": 89,
   "metadata": {},
   "outputs": [
    {
     "data": {
      "text/plain": [
       "'apple'"
      ]
     },
     "execution_count": 89,
     "metadata": {},
     "output_type": "execute_result"
    }
   ],
   "source": [
    "dic[1][1]"
   ]
  },
  {
   "cell_type": "code",
   "execution_count": 94,
   "metadata": {},
   "outputs": [],
   "source": [
    "path= '/users/PAS1495/akl2/work/increase_SNR/Analysis Data, tiffs and others/sample[0] total square intensities.csv'\n",
    "my_dictionary=lists_for_plot(path)"
   ]
  },
  {
   "cell_type": "code",
   "execution_count": 95,
   "metadata": {
    "scrolled": true
   },
   "outputs": [
    {
     "data": {
      "text/plain": [
       "array([ True,  True,  True,  True,  True,  True,  True,  True,  True,\n",
       "        True,  True])"
      ]
     },
     "execution_count": 95,
     "metadata": {},
     "output_type": "execute_result"
    }
   ],
   "source": [
    "my_dictionary['x']['mean']== norm_mean_x_list"
   ]
  },
  {
   "cell_type": "code",
   "execution_count": null,
   "metadata": {},
   "outputs": [],
   "source": []
  }
 ],
 "metadata": {
  "kernelspec": {
   "display_name": "Python 3.6 (Conda 5.2) [python/3.6-conda5.2]",
   "language": "python",
   "name": "sys_python36conda"
  },
  "language_info": {
   "codemirror_mode": {
    "name": "ipython",
    "version": 3
   },
   "file_extension": ".py",
   "mimetype": "text/x-python",
   "name": "python",
   "nbconvert_exporter": "python",
   "pygments_lexer": "ipython3",
   "version": "3.6.6"
  }
 },
 "nbformat": 4,
 "nbformat_minor": 2
}
